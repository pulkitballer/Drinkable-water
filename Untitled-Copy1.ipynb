{
 "cells": [
  {
   "cell_type": "code",
   "execution_count": 1,
   "id": "90c2a521",
   "metadata": {},
   "outputs": [],
   "source": [
    "import pandas as pd\n",
    "import numpy as np"
   ]
  },
  {
   "cell_type": "code",
   "execution_count": 2,
   "id": "3f03a5ba",
   "metadata": {},
   "outputs": [
    {
     "data": {
      "text/html": [
       "<div>\n",
       "<style scoped>\n",
       "    .dataframe tbody tr th:only-of-type {\n",
       "        vertical-align: middle;\n",
       "    }\n",
       "\n",
       "    .dataframe tbody tr th {\n",
       "        vertical-align: top;\n",
       "    }\n",
       "\n",
       "    .dataframe thead th {\n",
       "        text-align: right;\n",
       "    }\n",
       "</style>\n",
       "<table border=\"1\" class=\"dataframe\">\n",
       "  <thead>\n",
       "    <tr style=\"text-align: right;\">\n",
       "      <th></th>\n",
       "      <th>Index</th>\n",
       "      <th>pH</th>\n",
       "      <th>Iron</th>\n",
       "      <th>Nitrate</th>\n",
       "      <th>Chloride</th>\n",
       "      <th>Lead</th>\n",
       "      <th>Zinc</th>\n",
       "      <th>Color</th>\n",
       "      <th>Turbidity</th>\n",
       "      <th>Fluoride</th>\n",
       "      <th>...</th>\n",
       "      <th>Chlorine</th>\n",
       "      <th>Manganese</th>\n",
       "      <th>Total Dissolved Solids</th>\n",
       "      <th>Source</th>\n",
       "      <th>Water Temperature</th>\n",
       "      <th>Air Temperature</th>\n",
       "      <th>Month</th>\n",
       "      <th>Day</th>\n",
       "      <th>Time of Day</th>\n",
       "      <th>Target</th>\n",
       "    </tr>\n",
       "  </thead>\n",
       "  <tbody>\n",
       "    <tr>\n",
       "      <th>0</th>\n",
       "      <td>0</td>\n",
       "      <td>8.332988</td>\n",
       "      <td>0.000083</td>\n",
       "      <td>8.605777</td>\n",
       "      <td>122.799772</td>\n",
       "      <td>3.713298e-52</td>\n",
       "      <td>3.434827</td>\n",
       "      <td>Colorless</td>\n",
       "      <td>0.022683</td>\n",
       "      <td>0.607283</td>\n",
       "      <td>...</td>\n",
       "      <td>3.708178</td>\n",
       "      <td>2.269945e-15</td>\n",
       "      <td>332.118789</td>\n",
       "      <td>NaN</td>\n",
       "      <td>NaN</td>\n",
       "      <td>43.493324</td>\n",
       "      <td>January</td>\n",
       "      <td>29.0</td>\n",
       "      <td>4.0</td>\n",
       "      <td>0</td>\n",
       "    </tr>\n",
       "    <tr>\n",
       "      <th>1</th>\n",
       "      <td>1</td>\n",
       "      <td>6.917863</td>\n",
       "      <td>0.000081</td>\n",
       "      <td>3.734167</td>\n",
       "      <td>227.029851</td>\n",
       "      <td>7.849262e-94</td>\n",
       "      <td>1.245317</td>\n",
       "      <td>Faint Yellow</td>\n",
       "      <td>0.019007</td>\n",
       "      <td>0.622874</td>\n",
       "      <td>...</td>\n",
       "      <td>3.292038</td>\n",
       "      <td>8.024076e-07</td>\n",
       "      <td>284.641984</td>\n",
       "      <td>Lake</td>\n",
       "      <td>15.348981</td>\n",
       "      <td>71.220586</td>\n",
       "      <td>November</td>\n",
       "      <td>26.0</td>\n",
       "      <td>16.0</td>\n",
       "      <td>0</td>\n",
       "    </tr>\n",
       "    <tr>\n",
       "      <th>2</th>\n",
       "      <td>2</td>\n",
       "      <td>5.443762</td>\n",
       "      <td>0.020106</td>\n",
       "      <td>3.816994</td>\n",
       "      <td>230.995630</td>\n",
       "      <td>5.286616e-76</td>\n",
       "      <td>0.528280</td>\n",
       "      <td>Light Yellow</td>\n",
       "      <td>0.319956</td>\n",
       "      <td>0.423423</td>\n",
       "      <td>...</td>\n",
       "      <td>3.560224</td>\n",
       "      <td>7.007989e-02</td>\n",
       "      <td>570.054094</td>\n",
       "      <td>River</td>\n",
       "      <td>11.643467</td>\n",
       "      <td>44.891330</td>\n",
       "      <td>January</td>\n",
       "      <td>31.0</td>\n",
       "      <td>8.0</td>\n",
       "      <td>0</td>\n",
       "    </tr>\n",
       "    <tr>\n",
       "      <th>3</th>\n",
       "      <td>3</td>\n",
       "      <td>7.955339</td>\n",
       "      <td>0.143988</td>\n",
       "      <td>8.224944</td>\n",
       "      <td>178.129940</td>\n",
       "      <td>3.997118e-176</td>\n",
       "      <td>4.027879</td>\n",
       "      <td>Near Colorless</td>\n",
       "      <td>0.166319</td>\n",
       "      <td>0.208454</td>\n",
       "      <td>...</td>\n",
       "      <td>3.516907</td>\n",
       "      <td>2.468295e-02</td>\n",
       "      <td>100.043838</td>\n",
       "      <td>Ground</td>\n",
       "      <td>10.092392</td>\n",
       "      <td>60.843233</td>\n",
       "      <td>April</td>\n",
       "      <td>1.0</td>\n",
       "      <td>21.0</td>\n",
       "      <td>0</td>\n",
       "    </tr>\n",
       "    <tr>\n",
       "      <th>4</th>\n",
       "      <td>4</td>\n",
       "      <td>8.091909</td>\n",
       "      <td>0.002167</td>\n",
       "      <td>9.925788</td>\n",
       "      <td>186.540872</td>\n",
       "      <td>4.171069e-132</td>\n",
       "      <td>3.807511</td>\n",
       "      <td>Light Yellow</td>\n",
       "      <td>0.004867</td>\n",
       "      <td>0.222912</td>\n",
       "      <td>...</td>\n",
       "      <td>3.177849</td>\n",
       "      <td>3.296139e-03</td>\n",
       "      <td>168.075545</td>\n",
       "      <td>Spring</td>\n",
       "      <td>15.249416</td>\n",
       "      <td>69.336671</td>\n",
       "      <td>June</td>\n",
       "      <td>29.0</td>\n",
       "      <td>7.0</td>\n",
       "      <td>0</td>\n",
       "    </tr>\n",
       "    <tr>\n",
       "      <th>...</th>\n",
       "      <td>...</td>\n",
       "      <td>...</td>\n",
       "      <td>...</td>\n",
       "      <td>...</td>\n",
       "      <td>...</td>\n",
       "      <td>...</td>\n",
       "      <td>...</td>\n",
       "      <td>...</td>\n",
       "      <td>...</td>\n",
       "      <td>...</td>\n",
       "      <td>...</td>\n",
       "      <td>...</td>\n",
       "      <td>...</td>\n",
       "      <td>...</td>\n",
       "      <td>...</td>\n",
       "      <td>...</td>\n",
       "      <td>...</td>\n",
       "      <td>...</td>\n",
       "      <td>...</td>\n",
       "      <td>...</td>\n",
       "      <td>...</td>\n",
       "    </tr>\n",
       "    <tr>\n",
       "      <th>5956837</th>\n",
       "      <td>5956837</td>\n",
       "      <td>8.418457</td>\n",
       "      <td>0.000095</td>\n",
       "      <td>8.427576</td>\n",
       "      <td>256.570863</td>\n",
       "      <td>4.751543e-26</td>\n",
       "      <td>4.967504</td>\n",
       "      <td>Faint Yellow</td>\n",
       "      <td>3.824532</td>\n",
       "      <td>0.541850</td>\n",
       "      <td>...</td>\n",
       "      <td>2.630130</td>\n",
       "      <td>9.608234e-03</td>\n",
       "      <td>545.990529</td>\n",
       "      <td>Well</td>\n",
       "      <td>21.436974</td>\n",
       "      <td>70.493951</td>\n",
       "      <td>February</td>\n",
       "      <td>8.0</td>\n",
       "      <td>8.0</td>\n",
       "      <td>1</td>\n",
       "    </tr>\n",
       "    <tr>\n",
       "      <th>5956838</th>\n",
       "      <td>5956838</td>\n",
       "      <td>7.950573</td>\n",
       "      <td>0.215729</td>\n",
       "      <td>4.677850</td>\n",
       "      <td>292.727780</td>\n",
       "      <td>4.679421e-12</td>\n",
       "      <td>1.842063</td>\n",
       "      <td>Near Colorless</td>\n",
       "      <td>1.181166</td>\n",
       "      <td>2.747241</td>\n",
       "      <td>...</td>\n",
       "      <td>3.555576</td>\n",
       "      <td>1.875424e-11</td>\n",
       "      <td>514.136530</td>\n",
       "      <td>Ground</td>\n",
       "      <td>19.064632</td>\n",
       "      <td>67.052475</td>\n",
       "      <td>September</td>\n",
       "      <td>8.0</td>\n",
       "      <td>6.0</td>\n",
       "      <td>1</td>\n",
       "    </tr>\n",
       "    <tr>\n",
       "      <th>5956839</th>\n",
       "      <td>5956839</td>\n",
       "      <td>8.145572</td>\n",
       "      <td>0.000005</td>\n",
       "      <td>7.112877</td>\n",
       "      <td>254.831175</td>\n",
       "      <td>3.150254e-56</td>\n",
       "      <td>0.656923</td>\n",
       "      <td>Colorless</td>\n",
       "      <td>1.769609</td>\n",
       "      <td>1.398686</td>\n",
       "      <td>...</td>\n",
       "      <td>3.127251</td>\n",
       "      <td>1.199405e+00</td>\n",
       "      <td>336.947289</td>\n",
       "      <td>NaN</td>\n",
       "      <td>5.863636</td>\n",
       "      <td>64.086020</td>\n",
       "      <td>January</td>\n",
       "      <td>16.0</td>\n",
       "      <td>11.0</td>\n",
       "      <td>1</td>\n",
       "    </tr>\n",
       "    <tr>\n",
       "      <th>5956840</th>\n",
       "      <td>5956840</td>\n",
       "      <td>8.273548</td>\n",
       "      <td>0.001236</td>\n",
       "      <td>10.182408</td>\n",
       "      <td>122.842038</td>\n",
       "      <td>4.226073e-33</td>\n",
       "      <td>0.903032</td>\n",
       "      <td>Light Yellow</td>\n",
       "      <td>0.366909</td>\n",
       "      <td>3.076229</td>\n",
       "      <td>...</td>\n",
       "      <td>2.762962</td>\n",
       "      <td>2.824411e+00</td>\n",
       "      <td>112.458644</td>\n",
       "      <td>NaN</td>\n",
       "      <td>28.034083</td>\n",
       "      <td>18.158372</td>\n",
       "      <td>March</td>\n",
       "      <td>29.0</td>\n",
       "      <td>13.0</td>\n",
       "      <td>1</td>\n",
       "    </tr>\n",
       "    <tr>\n",
       "      <th>5956841</th>\n",
       "      <td>5956841</td>\n",
       "      <td>7.539523</td>\n",
       "      <td>0.022760</td>\n",
       "      <td>4.902591</td>\n",
       "      <td>106.256430</td>\n",
       "      <td>1.399449e-10</td>\n",
       "      <td>1.069694</td>\n",
       "      <td>Light Yellow</td>\n",
       "      <td>0.371766</td>\n",
       "      <td>0.995846</td>\n",
       "      <td>...</td>\n",
       "      <td>6.033203</td>\n",
       "      <td>2.838596e-01</td>\n",
       "      <td>118.556879</td>\n",
       "      <td>Aquifer</td>\n",
       "      <td>6.594036</td>\n",
       "      <td>51.751181</td>\n",
       "      <td>June</td>\n",
       "      <td>9.0</td>\n",
       "      <td>2.0</td>\n",
       "      <td>1</td>\n",
       "    </tr>\n",
       "  </tbody>\n",
       "</table>\n",
       "<p>5956842 rows × 24 columns</p>\n",
       "</div>"
      ],
      "text/plain": [
       "           Index        pH      Iron    Nitrate    Chloride           Lead  \\\n",
       "0              0  8.332988  0.000083   8.605777  122.799772   3.713298e-52   \n",
       "1              1  6.917863  0.000081   3.734167  227.029851   7.849262e-94   \n",
       "2              2  5.443762  0.020106   3.816994  230.995630   5.286616e-76   \n",
       "3              3  7.955339  0.143988   8.224944  178.129940  3.997118e-176   \n",
       "4              4  8.091909  0.002167   9.925788  186.540872  4.171069e-132   \n",
       "...          ...       ...       ...        ...         ...            ...   \n",
       "5956837  5956837  8.418457  0.000095   8.427576  256.570863   4.751543e-26   \n",
       "5956838  5956838  7.950573  0.215729   4.677850  292.727780   4.679421e-12   \n",
       "5956839  5956839  8.145572  0.000005   7.112877  254.831175   3.150254e-56   \n",
       "5956840  5956840  8.273548  0.001236  10.182408  122.842038   4.226073e-33   \n",
       "5956841  5956841  7.539523  0.022760   4.902591  106.256430   1.399449e-10   \n",
       "\n",
       "             Zinc           Color  Turbidity  Fluoride  ...  Chlorine  \\\n",
       "0        3.434827       Colorless   0.022683  0.607283  ...  3.708178   \n",
       "1        1.245317    Faint Yellow   0.019007  0.622874  ...  3.292038   \n",
       "2        0.528280    Light Yellow   0.319956  0.423423  ...  3.560224   \n",
       "3        4.027879  Near Colorless   0.166319  0.208454  ...  3.516907   \n",
       "4        3.807511    Light Yellow   0.004867  0.222912  ...  3.177849   \n",
       "...           ...             ...        ...       ...  ...       ...   \n",
       "5956837  4.967504    Faint Yellow   3.824532  0.541850  ...  2.630130   \n",
       "5956838  1.842063  Near Colorless   1.181166  2.747241  ...  3.555576   \n",
       "5956839  0.656923       Colorless   1.769609  1.398686  ...  3.127251   \n",
       "5956840  0.903032    Light Yellow   0.366909  3.076229  ...  2.762962   \n",
       "5956841  1.069694    Light Yellow   0.371766  0.995846  ...  6.033203   \n",
       "\n",
       "            Manganese  Total Dissolved Solids   Source  Water Temperature  \\\n",
       "0        2.269945e-15              332.118789      NaN                NaN   \n",
       "1        8.024076e-07              284.641984     Lake          15.348981   \n",
       "2        7.007989e-02              570.054094    River          11.643467   \n",
       "3        2.468295e-02              100.043838   Ground          10.092392   \n",
       "4        3.296139e-03              168.075545   Spring          15.249416   \n",
       "...               ...                     ...      ...                ...   \n",
       "5956837  9.608234e-03              545.990529     Well          21.436974   \n",
       "5956838  1.875424e-11              514.136530   Ground          19.064632   \n",
       "5956839  1.199405e+00              336.947289      NaN           5.863636   \n",
       "5956840  2.824411e+00              112.458644      NaN          28.034083   \n",
       "5956841  2.838596e-01              118.556879  Aquifer           6.594036   \n",
       "\n",
       "         Air Temperature      Month   Day  Time of Day  Target  \n",
       "0              43.493324    January  29.0          4.0       0  \n",
       "1              71.220586   November  26.0         16.0       0  \n",
       "2              44.891330    January  31.0          8.0       0  \n",
       "3              60.843233      April   1.0         21.0       0  \n",
       "4              69.336671       June  29.0          7.0       0  \n",
       "...                  ...        ...   ...          ...     ...  \n",
       "5956837        70.493951   February   8.0          8.0       1  \n",
       "5956838        67.052475  September   8.0          6.0       1  \n",
       "5956839        64.086020    January  16.0         11.0       1  \n",
       "5956840        18.158372      March  29.0         13.0       1  \n",
       "5956841        51.751181       June   9.0          2.0       1  \n",
       "\n",
       "[5956842 rows x 24 columns]"
      ]
     },
     "execution_count": 2,
     "metadata": {},
     "output_type": "execute_result"
    }
   ],
   "source": [
    "df = pd.read_csv('dataset.csv')\n",
    "df"
   ]
  },
  {
   "cell_type": "code",
   "execution_count": 3,
   "id": "b88d0264",
   "metadata": {},
   "outputs": [
    {
     "data": {
      "text/plain": [
       "Index                       int64\n",
       "pH                        float64\n",
       "Iron                      float64\n",
       "Nitrate                   float64\n",
       "Chloride                  float64\n",
       "Lead                      float64\n",
       "Zinc                      float64\n",
       "Color                      object\n",
       "Turbidity                 float64\n",
       "Fluoride                  float64\n",
       "Copper                    float64\n",
       "Odor                      float64\n",
       "Sulfate                   float64\n",
       "Conductivity              float64\n",
       "Chlorine                  float64\n",
       "Manganese                 float64\n",
       "Total Dissolved Solids    float64\n",
       "Source                     object\n",
       "Water Temperature         float64\n",
       "Air Temperature           float64\n",
       "Month                      object\n",
       "Day                       float64\n",
       "Time of Day               float64\n",
       "Target                      int64\n",
       "dtype: object"
      ]
     },
     "execution_count": 3,
     "metadata": {},
     "output_type": "execute_result"
    }
   ],
   "source": [
    "df.dtypes"
   ]
  },
  {
   "cell_type": "code",
   "execution_count": 4,
   "id": "1ecdf464",
   "metadata": {},
   "outputs": [
    {
     "data": {
      "text/plain": [
       "Index                       int64\n",
       "pH                        float64\n",
       "Iron                      float64\n",
       "Nitrate                   float64\n",
       "Chloride                  float64\n",
       "Lead                      float64\n",
       "Zinc                      float64\n",
       "Turbidity                 float64\n",
       "Fluoride                  float64\n",
       "Copper                    float64\n",
       "Odor                      float64\n",
       "Sulfate                   float64\n",
       "Conductivity              float64\n",
       "Chlorine                  float64\n",
       "Manganese                 float64\n",
       "Total Dissolved Solids    float64\n",
       "Water Temperature         float64\n",
       "Air Temperature           float64\n",
       "Month                      object\n",
       "Day                       float64\n",
       "Time of Day               float64\n",
       "Target                      int64\n",
       "Color_Colorless             uint8\n",
       "Color_Faint Yellow          uint8\n",
       "Color_Light Yellow          uint8\n",
       "Color_Near Colorless        uint8\n",
       "Color_Yellow                uint8\n",
       "Source_Aquifer              uint8\n",
       "Source_Ground               uint8\n",
       "Source_Lake                 uint8\n",
       "Source_Reservoir            uint8\n",
       "Source_River                uint8\n",
       "Source_Spring               uint8\n",
       "Source_Stream               uint8\n",
       "Source_Well                 uint8\n",
       "dtype: object"
      ]
     },
     "execution_count": 4,
     "metadata": {},
     "output_type": "execute_result"
    }
   ],
   "source": [
    "df1 = pd.get_dummies(data=df,columns=['Color','Source'])\n",
    "df1.dtypes"
   ]
  },
  {
   "cell_type": "code",
   "execution_count": 5,
   "id": "9b174c65",
   "metadata": {},
   "outputs": [],
   "source": [
    "df1.drop('Month',axis=1,inplace=True)"
   ]
  },
  {
   "cell_type": "code",
   "execution_count": 6,
   "id": "4dedea25",
   "metadata": {},
   "outputs": [],
   "source": [
    "X = df1.drop('Target',axis=1)\n",
    "Y = df1['Target']"
   ]
  },
  {
   "cell_type": "code",
   "execution_count": 7,
   "id": "106a6cbb",
   "metadata": {},
   "outputs": [],
   "source": [
    "from sklearn.model_selection import train_test_split"
   ]
  },
  {
   "cell_type": "code",
   "execution_count": 8,
   "id": "22c76176",
   "metadata": {},
   "outputs": [],
   "source": [
    "X_train , X_test , Y_train , Y_test = train_test_split(X,Y,random_state=5,test_size=0.2)"
   ]
  },
  {
   "cell_type": "code",
   "execution_count": 9,
   "id": "6b245f28",
   "metadata": {},
   "outputs": [],
   "source": [
    "import tensorflow as tf\n",
    "from tensorflow.keras import models,layers,Sequential"
   ]
  },
  {
   "cell_type": "code",
   "execution_count": 10,
   "id": "afdbe5c1",
   "metadata": {},
   "outputs": [
    {
     "name": "stdout",
     "output_type": "stream",
     "text": [
      "(4765473, 33)\n",
      "(1191369, 33)\n",
      "(4765473,)\n",
      "(1191369,)\n"
     ]
    }
   ],
   "source": [
    "print(X_train.shape)\n",
    "print(X_test.shape)\n",
    "print(Y_train.shape)\n",
    "print(Y_test.shape)"
   ]
  },
  {
   "cell_type": "code",
   "execution_count": 11,
   "id": "f4768971",
   "metadata": {},
   "outputs": [
    {
     "data": {
      "text/plain": [
       "0    4151590\n",
       "1    1805252\n",
       "Name: Target, dtype: int64"
      ]
     },
     "execution_count": 11,
     "metadata": {},
     "output_type": "execute_result"
    }
   ],
   "source": [
    "df1.Target.value_counts()"
   ]
  },
  {
   "cell_type": "code",
   "execution_count": 12,
   "id": "6631ae90",
   "metadata": {},
   "outputs": [
    {
     "name": "stdout",
     "output_type": "stream",
     "text": [
      "Epoch 1/10\n",
      "148922/148922 [==============================] - 226s 2ms/step - loss: nan - acc: 0.6969\n",
      "Epoch 2/10\n",
      "148922/148922 [==============================] - 216s 1ms/step - loss: nan - acc: 0.6969\n",
      "Epoch 3/10\n",
      "148922/148922 [==============================] - 229s 2ms/step - loss: nan - acc: 0.6969\n",
      "Epoch 4/10\n",
      "148922/148922 [==============================] - 211s 1ms/step - loss: nan - acc: 0.6969\n",
      "Epoch 5/10\n",
      "148922/148922 [==============================] - 202s 1ms/step - loss: nan - acc: 0.6969\n",
      "Epoch 6/10\n",
      "148922/148922 [==============================] - 197s 1ms/step - loss: nan - acc: 0.6969\n",
      "Epoch 7/10\n",
      "148922/148922 [==============================] - 182s 1ms/step - loss: nan - acc: 0.6969\n",
      "Epoch 8/10\n",
      "148922/148922 [==============================] - 185s 1ms/step - loss: nan - acc: 0.6969\n",
      "Epoch 9/10\n",
      "148922/148922 [==============================] - 198s 1ms/step - loss: nan - acc: 0.6969\n",
      "Epoch 10/10\n",
      "148922/148922 [==============================] - 209s 1ms/step - loss: nan - acc: 0.6969\n"
     ]
    },
    {
     "data": {
      "text/plain": [
       "<keras.callbacks.History at 0x231e8489c10>"
      ]
     },
     "execution_count": 12,
     "metadata": {},
     "output_type": "execute_result"
    }
   ],
   "source": [
    "Ann = Sequential([\n",
    "    layers.Dense(33,input_shape=(33,),activation='relu'),\n",
    "    layers.Dropout(0.3),\n",
    "    layers.Dense(50,activation='sigmoid'),\n",
    "    layers.Dropout(0.2),\n",
    "    layers.Dense(1,activation='relu')\n",
    "])\n",
    "Ann.compile(optimizer='adam',\n",
    "           loss='binary_crossentropy',\n",
    "           metrics=['acc'])\n",
    "Ann.fit(X_train,Y_train,epochs=10)"
   ]
  },
  {
   "cell_type": "code",
   "execution_count": 15,
   "id": "8addde21",
   "metadata": {},
   "outputs": [
    {
     "name": "stdout",
     "output_type": "stream",
     "text": [
      "37231/37231 [==============================] - 75s 2ms/step\n"
     ]
    },
    {
     "data": {
      "text/plain": [
       "array([[nan],\n",
       "       [nan],\n",
       "       [nan],\n",
       "       [nan],\n",
       "       [nan]], dtype=float32)"
      ]
     },
     "execution_count": 15,
     "metadata": {},
     "output_type": "execute_result"
    }
   ],
   "source": [
    "yp = Ann.predict(X_test)\n",
    "yp[:5]"
   ]
  },
  {
   "cell_type": "code",
   "execution_count": 16,
   "id": "8a9b69dd",
   "metadata": {},
   "outputs": [],
   "source": [
    "y_pred = []\n",
    "for element in yp:\n",
    "    if element > 0.5:\n",
    "        y_pred.append(1)\n",
    "    else:\n",
    "        y_pred.append(0)"
   ]
  },
  {
   "cell_type": "code",
   "execution_count": 19,
   "id": "cc3e63b0",
   "metadata": {},
   "outputs": [
    {
     "name": "stderr",
     "output_type": "stream",
     "text": [
      "C:\\Users\\pulki\\anaconda3\\lib\\site-packages\\sklearn\\metrics\\_classification.py:1334: UndefinedMetricWarning: Precision and F-score are ill-defined and being set to 0.0 in labels with no predicted samples. Use `zero_division` parameter to control this behavior.\n",
      "  _warn_prf(average, modifier, msg_start, len(result))\n",
      "C:\\Users\\pulki\\anaconda3\\lib\\site-packages\\sklearn\\metrics\\_classification.py:1334: UndefinedMetricWarning: Precision and F-score are ill-defined and being set to 0.0 in labels with no predicted samples. Use `zero_division` parameter to control this behavior.\n",
      "  _warn_prf(average, modifier, msg_start, len(result))\n"
     ]
    },
    {
     "name": "stdout",
     "output_type": "stream",
     "text": [
      "              precision    recall  f1-score   support\n",
      "\n",
      "           0       0.70      1.00      0.82    830446\n",
      "           1       0.00      0.00      0.00    360923\n",
      "\n",
      "    accuracy                           0.70   1191369\n",
      "   macro avg       0.35      0.50      0.41   1191369\n",
      "weighted avg       0.49      0.70      0.57   1191369\n",
      "\n"
     ]
    },
    {
     "name": "stderr",
     "output_type": "stream",
     "text": [
      "C:\\Users\\pulki\\anaconda3\\lib\\site-packages\\sklearn\\metrics\\_classification.py:1334: UndefinedMetricWarning: Precision and F-score are ill-defined and being set to 0.0 in labels with no predicted samples. Use `zero_division` parameter to control this behavior.\n",
      "  _warn_prf(average, modifier, msg_start, len(result))\n"
     ]
    }
   ],
   "source": [
    "from sklearn.metrics import confusion_matrix , classification_report\n",
    "\n",
    "print(classification_report(Y_test,y_pred))"
   ]
  },
  {
   "cell_type": "code",
   "execution_count": 23,
   "id": "7d0ac2f5",
   "metadata": {},
   "outputs": [
    {
     "data": {
      "text/plain": [
       "Text(95.72222222222221, 0.5, 'Truth')"
      ]
     },
     "execution_count": 23,
     "metadata": {},
     "output_type": "execute_result"
    },
    {
     "data": {
      "image/png": "[encoded data removed]",
      "text/plain": [
       "<Figure size 1000x700 with 2 Axes>"
      ]
     },
     "metadata": {},
     "output_type": "display_data"
    }
   ],
   "source": [
    "import matplotlib.pyplot as plt\n",
    "import seaborn as sn\n",
    "cm = tf.math.confusion_matrix(labels=Y_test,predictions=y_pred)\n",
    "\n",
    "plt.figure(figsize = (10,7))\n",
    "sn.heatmap(cm, annot=True, fmt='d')\n",
    "plt.xlabel('Predicted')\n",
    "plt.ylabel('Truth')"
   ]
  },
  {
   "cell_type": "code",
   "execution_count": null,
   "id": "23d02349",
   "metadata": {},
   "outputs": [],
   "source": []
  }
 ],
 "metadata": {
  "kernelspec": {
   "display_name": "Python 3 (ipykernel)",
   "language": "python",
   "name": "python3"
  },
  "language_info": {
   "codemirror_mode": {
    "name": "ipython",
    "version": 3
   },
   "file_extension": ".py",
   "mimetype": "text/x-python",
   "name": "python",
   "nbconvert_exporter": "python",
   "pygments_lexer": "ipython3",
   "version": "3.9.13"
  }
 },
 "nbformat": 4,
 "nbformat_minor": 5
}
